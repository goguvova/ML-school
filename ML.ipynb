{
 "cells": [
  {
   "cell_type": "code",
   "execution_count": 14,
   "metadata": {},
   "outputs": [],
   "source": [
    "#COMMENT1\n",
    "import numpy as np\n",
    "import matplotlib.pyplot as plt\n",
    "%matplotlib inline\n",
    "\n",
    "from scipy.misc import imshow\n",
    "import cv2\n",
    "import os\n",
    "import time\n",
    "from hashlib import md5\n",
    "import scipy\n",
    "import imageio"
   ]
  },
  {
   "cell_type": "markdown",
   "metadata": {},
   "source": [
    "## Finding Similar images"
   ]
  },
  {
   "cell_type": "code",
   "execution_count": 15,
   "metadata": {},
   "outputs": [
    {
     "data": {
      "text/plain": [
       "'C:\\\\Users\\\\Patronus\\\\Desktop\\\\ml-school\\\\dev_dataset'"
      ]
     },
     "execution_count": 15,
     "metadata": {},
     "output_type": "execute_result"
    }
   ],
   "source": [
    "IMAGE_DIR = 'C:\\\\Users\\\\Patronus\\\\Desktop\\\\ml-school\\\\dev_dataset\\\\'\n",
    "os.chdir(IMAGE_DIR)\n",
    "os.getcwd()"
   ]
  },
  {
   "cell_type": "code",
   "execution_count": 16,
   "metadata": {},
   "outputs": [],
   "source": [
    "image_files = os.listdir()\n"
   ]
  },
  {
   "cell_type": "code",
   "execution_count": 17,
   "metadata": {},
   "outputs": [],
   "source": [
    "def filter_images(images):\n",
    "    image_list = []\n",
    "    for image in images:\n",
    "        try:\n",
    "            assert imageio.imread(image).shape[2] == 3\n",
    "            image_list.append(image)\n",
    "        except  AssertionError as e:\n",
    "            print(e)\n",
    "    return image_list"
   ]
  },
  {
   "cell_type": "code",
   "execution_count": 18,
   "metadata": {},
   "outputs": [],
   "source": [
    "def img_gray(image):\n",
    "    image = imageio.imread(image)\n",
    "    return np.average(image, weights=[0.299, 0.587, 0.114], axis=2)"
   ]
  },
  {
   "cell_type": "code",
   "execution_count": 19,
   "metadata": {},
   "outputs": [],
   "source": [
    "def resize(image, height=30, width=30):\n",
    "    row_res = cv2.resize(image,(height, width), interpolation = cv2.INTER_AREA).flatten()\n",
    "    col_res = cv2.resize(image,(height, width), interpolation = cv2.INTER_AREA).flatten('F')\n",
    "    return row_res, col_res"
   ]
  },
  {
   "cell_type": "code",
   "execution_count": 20,
   "metadata": {},
   "outputs": [],
   "source": [
    "def intensity_diff(row_res, col_res):\n",
    "    difference_row = np.diff(row_res)\n",
    "    difference_col = np.diff(col_res)\n",
    "    difference_row = difference_row > 0\n",
    "    difference_col = difference_col > 0\n",
    "    return np.vstack((difference_row, difference_col)).flatten()"
   ]
  },
  {
   "cell_type": "code",
   "execution_count": 21,
   "metadata": {},
   "outputs": [],
   "source": [
    "def difference_score(image, height = 30, width = 30):\n",
    "    gray = img_gray(image)\n",
    "    row_res, col_res = resize(gray, height, width)\n",
    "    difference = intensity_diff(row_res, col_res)\n",
    "    \n",
    "    return difference"
   ]
  },
  {
   "cell_type": "code",
   "execution_count": 22,
   "metadata": {},
   "outputs": [],
   "source": [
    "def hamming_distance(image, image2):\n",
    "    score =scipy.spatial.distance.hamming(image, image2)\n",
    "    return score"
   ]
  },
  {
   "cell_type": "code",
   "execution_count": 23,
   "metadata": {},
   "outputs": [],
   "source": [
    "def difference_score_dict(image_list):\n",
    "    ds_dict = {}\n",
    "    duplicates = []\n",
    "    for image in image_list:\n",
    "        ds = difference_score(image)\n",
    "        \n",
    "        if image not in ds_dict:\n",
    "            ds_dict[image] = ds\n",
    "        else:\n",
    "            duplicates.append((image, ds_dict[image]) )\n",
    "    \n",
    "    return  duplicates, ds_dict"
   ]
  },
  {
   "cell_type": "code",
   "execution_count": 24,
   "metadata": {},
   "outputs": [],
   "source": [
    "image_files = filter_images(image_files)\n",
    "duplicates, ds_dict =difference_score_dict(image_files)"
   ]
  },
  {
   "cell_type": "code",
   "execution_count": 25,
   "metadata": {},
   "outputs": [],
   "source": [
    "import itertools\n",
    "for k1,k2 in itertools.combinations(ds_dict, 2):\n",
    "    if hamming_distance(ds_dict[k1], ds_dict[k2])< .40:\n",
    "        duplicates.append((k1,k2))"
   ]
  },
  {
   "cell_type": "code",
   "execution_count": 26,
   "metadata": {},
   "outputs": [
    {
     "data": {
      "text/plain": [
       "[('1.jpg', '1_duplicate.jpg'),\n",
       " ('11.jpg', '11_duplicate.jpg'),\n",
       " ('11.jpg', '11_modification.jpg'),\n",
       " ('11_duplicate.jpg', '11_modification.jpg'),\n",
       " ('15.jpg', '15_modification.jpg'),\n",
       " ('4.jpg', '4_similar.jpg'),\n",
       " ('6.jpg', '6_similar.jpg')]"
      ]
     },
     "execution_count": 26,
     "metadata": {},
     "output_type": "execute_result"
    }
   ],
   "source": [
    "duplicates\n"
   ]
  },
  {
   "cell_type": "code",
   "execution_count": null,
   "metadata": {},
   "outputs": [],
   "source": []
  }
 ],
 "metadata": {
  "kernelspec": {
   "display_name": "Python 3",
   "language": "python",
   "name": "python3"
  },
  "language_info": {
   "codemirror_mode": {
    "name": "ipython",
    "version": 3
   },
   "file_extension": ".py",
   "mimetype": "text/x-python",
   "name": "python",
   "nbconvert_exporter": "python",
   "pygments_lexer": "ipython3",
   "version": "3.7.4"
  }
 },
 "nbformat": 4,
 "nbformat_minor": 2
}
